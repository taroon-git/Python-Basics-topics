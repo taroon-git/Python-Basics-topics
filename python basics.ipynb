{
 "cells": [
  {
   "cell_type": "markdown",
   "id": "1794cfa2-a3cb-4fc5-9b63-1e0e15d75fb4",
   "metadata": {},
   "source": [
    "# Python Basic "
   ]
  },
  {
   "cell_type": "code",
   "execution_count": 2,
   "id": "93e3f9c2-c73a-4f50-b3c4-e2a10f69e2d6",
   "metadata": {},
   "outputs": [],
   "source": [
    "# 1. Introduction of Python and Comparison with other programming language.\n",
    "# 2. Python objects , Number & Booleans, strings.\n",
    "# 3. Container Objects, Mutability of objects\n"
   ]
  },
  {
   "cell_type": "code",
   "execution_count": 4,
   "id": "304950e0-d4b5-40e3-8c85-a1f6d7f0e797",
   "metadata": {},
   "outputs": [],
   "source": [
    "#    Operatos:-\n",
    "# 4. Arithmetic, Bitwise, Comparison And Assignment Operators,\n",
    "#    Operator's Precedence and Associativity\n",
    "\n",
    "# 5. Conditions - (if Else, if-Elif-Else), \n",
    "# 6. Loops - (while, For)\n",
    "# 7. Break and Continue statement and Range function"
   ]
  },
  {
   "cell_type": "code",
   "execution_count": 5,
   "id": "5e286778-9498-415e-aa15-3d8c58c72c52",
   "metadata": {},
   "outputs": [],
   "source": [
    "#   String Objects\n",
    "\n",
    "# 8. Basic data structure in Python\n",
    "# 9. String object Basics\n",
    "# 10. String inbuilt methods\n",
    "# 11. Splitting and joining strings\n",
    "# 12. String Format functions"
   ]
  },
  {
   "cell_type": "code",
   "execution_count": 6,
   "id": "8f07581b-a522-4890-9760-3b16189f1745",
   "metadata": {},
   "outputs": [],
   "source": [
    " # List Objects Basics\n",
    "    \n",
    "# 13. List methods\n",
    "# 14. List as Stack and Queues\n",
    "# 15. List Comprehensions"
   ]
  },
  {
   "cell_type": "code",
   "execution_count": 7,
   "id": "22e82e8b-2e09-4c74-9c74-075a6b140dfb",
   "metadata": {},
   "outputs": [],
   "source": [
    " # Tuples, Set, Dictionaries & Its Function\n",
    "# 16. Tuples, Set and Dictionary Object Methods\n",
    "# 17. Dictionary Comprehensions\n",
    "# 18. Dictionary View Objects\n"
   ]
  },
  {
   "cell_type": "code",
   "execution_count": 9,
   "id": "07c4b768-7c15-4087-a9e7-203dbccc93b6",
   "metadata": {},
   "outputs": [],
   "source": [
    " # Function\n",
    "\n",
    "# 19. Functions Basics\n",
    "# 20. parameter passing\n",
    "# 21. Iterators\n",
    "# 22. Generator Functions\n",
    "# 23. Lambda Functions\n",
    "# 24. Map, Reduce, Filter Functions"
   ]
  },
  {
   "cell_type": "code",
   "execution_count": 10,
   "id": "b3bc648f-60ad-4f35-89b3-73dabd494ee3",
   "metadata": {},
   "outputs": [],
   "source": [
    " # OOps Concepts\n",
    "# 25. Oops Basic Concepts.\n",
    "# 26. Creating Classes\n",
    "# 27. Pillars of Oops\n",
    "# 28. Inheritance\n",
    "# 29. Polymorphism\n",
    "# 30. Encapsulation\n",
    "# 31. Abstraction\n",
    "\n",
    "# 32. Decorators\n",
    "# 33. Class Methods and Static Methods\n",
    "# 34. Special (Magic/Dunder) Methods\n",
    "# 35. Property Decorators - Getters, Setters, And Deletes\n",
    "\n"
   ]
  },
  {
   "cell_type": "code",
   "execution_count": 11,
   "id": "2d2d7b14-10f2-487b-916d-3cc55733f271",
   "metadata": {},
   "outputs": [],
   "source": [
    "    # Files\n",
    "# 36. Working with Files\n",
    "# 37. Reading And Writing Files\n",
    "# 38. Buffered Read and Write & Other File Methods\n",
    "# 39. Logging & Debugger\n",
    "# 40. Modules and Import statements"
   ]
  },
  {
   "cell_type": "code",
   "execution_count": 12,
   "id": "7febfbaa-fed1-4da1-865f-4db65616a4f5",
   "metadata": {},
   "outputs": [],
   "source": [
    " # Exception Handling\n",
    "\n",
    "# 41. Exceptions Handling with Try-Except\n",
    "# 42. Custom Exception Handling\n",
    "# 43. List of General Use Exceptions\n",
    "# 44. Best practice Exception Handling"
   ]
  },
  {
   "cell_type": "code",
   "execution_count": 13,
   "id": "170cf97f-f95a-47d1-bc59-4f4fc883023f",
   "metadata": {},
   "outputs": [],
   "source": [
    " # Memory Management\n",
    "\n",
    "# 45. Multithreading\n",
    "# 46. Multiprocessing"
   ]
  },
  {
   "cell_type": "code",
   "execution_count": null,
   "id": "26132df2-be2e-4e30-9881-b374e6190b5e",
   "metadata": {},
   "outputs": [],
   "source": []
  }
 ],
 "metadata": {
  "kernelspec": {
   "display_name": "Python 3 (ipykernel)",
   "language": "python",
   "name": "python3"
  },
  "language_info": {
   "codemirror_mode": {
    "name": "ipython",
    "version": 3
   },
   "file_extension": ".py",
   "mimetype": "text/x-python",
   "name": "python",
   "nbconvert_exporter": "python",
   "pygments_lexer": "ipython3",
   "version": "3.10.8"
  }
 },
 "nbformat": 4,
 "nbformat_minor": 5
}
